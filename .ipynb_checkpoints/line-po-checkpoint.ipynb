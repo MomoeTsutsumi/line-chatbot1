{
 "cells": [
  {
   "cell_type": "code",
   "execution_count": 2,
   "id": "6b502c46",
   "metadata": {},
   "outputs": [
    {
     "name": "stdout",
     "output_type": "stream",
     "text": [
      "Collecting line-bot-sdk\n",
      "  Using cached line_bot_sdk-2.2.1-py2.py3-none-any.whl (87 kB)\n",
      "Requirement already satisfied: requests>=2.0 in c:\\users\\socce\\dist\\lib\\site-packages (from line-bot-sdk) (2.26.0)\n",
      "Collecting aiohttp>=3.7.4\n",
      "  Using cached aiohttp-3.8.1-cp39-cp39-win_amd64.whl (554 kB)\n",
      "Requirement already satisfied: future in c:\\users\\socce\\dist\\lib\\site-packages (from line-bot-sdk) (0.18.2)\n",
      "Collecting aiosignal>=1.1.2\n",
      "  Using cached aiosignal-1.2.0-py3-none-any.whl (8.2 kB)\n",
      "Collecting async-timeout<5.0,>=4.0.0a3\n",
      "  Using cached async_timeout-4.0.2-py3-none-any.whl (5.8 kB)\n",
      "Collecting frozenlist>=1.1.1\n",
      "  Using cached frozenlist-1.3.0-cp39-cp39-win_amd64.whl (33 kB)\n",
      "Requirement already satisfied: attrs>=17.3.0 in c:\\users\\socce\\dist\\lib\\site-packages (from aiohttp>=3.7.4->line-bot-sdk) (21.2.0)\n",
      "Requirement already satisfied: charset-normalizer<3.0,>=2.0 in c:\\users\\socce\\dist\\lib\\site-packages (from aiohttp>=3.7.4->line-bot-sdk) (2.0.4)\n",
      "Collecting yarl<2.0,>=1.0\n",
      "  Using cached yarl-1.7.2-cp39-cp39-win_amd64.whl (122 kB)\n",
      "Collecting multidict<7.0,>=4.5\n",
      "  Using cached multidict-6.0.2-cp39-cp39-win_amd64.whl (28 kB)\n",
      "Requirement already satisfied: idna<4,>=2.5 in c:\\users\\socce\\dist\\lib\\site-packages (from requests>=2.0->line-bot-sdk) (3.2)\n",
      "Requirement already satisfied: certifi>=2017.4.17 in c:\\users\\socce\\dist\\lib\\site-packages (from requests>=2.0->line-bot-sdk) (2021.10.8)\n",
      "Requirement already satisfied: urllib3<1.27,>=1.21.1 in c:\\users\\socce\\dist\\lib\\site-packages (from requests>=2.0->line-bot-sdk) (1.26.7)\n",
      "Installing collected packages: multidict, frozenlist, yarl, async-timeout, aiosignal, aiohttp, line-bot-sdk\n",
      "Successfully installed aiohttp-3.8.1 aiosignal-1.2.0 async-timeout-4.0.2 frozenlist-1.3.0 line-bot-sdk-2.2.1 multidict-6.0.2 yarl-1.7.2\n"
     ]
    }
   ],
   "source": [
    "!pip install line-bot-sdk"
   ]
  },
  {
   "cell_type": "code",
   "execution_count": 3,
   "id": "ecf7f204",
   "metadata": {},
   "outputs": [],
   "source": [
    "import json"
   ]
  },
  {
   "cell_type": "code",
   "execution_count": 4,
   "id": "6fd9ac1e",
   "metadata": {},
   "outputs": [],
   "source": [
    "file=open('info.json','r')\n",
    "info=json.load(file)"
   ]
  },
  {
   "cell_type": "code",
   "execution_count": 5,
   "id": "e285c7fb",
   "metadata": {},
   "outputs": [
    {
     "data": {
      "text/plain": [
       "'SHJnlHUvCB91LE989th6ik24xLbJZ1z5e9Se3Gz0LlUQlGDqHxjFnjk/oqWnckwrl4Mv/bJqyySi92q9R6e8kv4TQRl1p0pGmbkvLUDob+1JhW78joe8bjRipnQ+0aaodGJsImB5bYIkmBiq8uTpHwdB04t89/1O/w1cDnyilFU='"
      ]
     },
     "execution_count": 5,
     "metadata": {},
     "output_type": "execute_result"
    }
   ],
   "source": [
    "info[\"CHANNEL_ACCESS_TOKEN\"]"
   ]
  },
  {
   "cell_type": "code",
   "execution_count": 6,
   "id": "c8092046",
   "metadata": {},
   "outputs": [],
   "source": [
    "import json"
   ]
  },
  {
   "cell_type": "code",
   "execution_count": 7,
   "id": "a66ee775",
   "metadata": {},
   "outputs": [],
   "source": [
    "file=open('info.json','r')\n",
    "info=json.load(file)"
   ]
  },
  {
   "cell_type": "code",
   "execution_count": 8,
   "id": "6def7376",
   "metadata": {},
   "outputs": [
    {
     "data": {
      "text/plain": [
       "'SHJnlHUvCB91LE989th6ik24xLbJZ1z5e9Se3Gz0LlUQlGDqHxjFnjk/oqWnckwrl4Mv/bJqyySi92q9R6e8kv4TQRl1p0pGmbkvLUDob+1JhW78joe8bjRipnQ+0aaodGJsImB5bYIkmBiq8uTpHwdB04t89/1O/w1cDnyilFU='"
      ]
     },
     "execution_count": 8,
     "metadata": {},
     "output_type": "execute_result"
    }
   ],
   "source": [
    "info[\"CHANNEL_ACCESS_TOKEN\"]"
   ]
  },
  {
   "cell_type": "code",
   "execution_count": 9,
   "id": "8d9d7884",
   "metadata": {},
   "outputs": [],
   "source": [
    "from linebot import LineBotApi\n",
    "from linebot.models import TextSendMessage"
   ]
  },
  {
   "cell_type": "code",
   "execution_count": 10,
   "id": "cfd4a4e8",
   "metadata": {},
   "outputs": [],
   "source": [
    "CHANNEL_ACCESS_TOKEN=info[\"CHANNEL_ACCESS_TOKEN\"]\n",
    "line_bot_api=LineBotApi(CHANNEL_ACCESS_TOKEN)"
   ]
  },
  {
   "cell_type": "code",
   "execution_count": 12,
   "id": "b19d3fe7",
   "metadata": {},
   "outputs": [],
   "source": [
    "def main():\n",
    "    USER_ID = info[\"USER_ID\"]\n",
    "    messages= TextSendMessage(text=\"おはよう!\\nポッチャマだよ\\n朝だよ起きて\")\n",
    "    line_bot_api.push_message(USER_ID,messages=messages)\n",
    "    \n",
    "if __name__ == \"__main__\":\n",
    "    main()"
   ]
  },
  {
   "cell_type": "code",
   "execution_count": null,
   "id": "b6f97e9e",
   "metadata": {},
   "outputs": [],
   "source": []
  },
  {
   "cell_type": "code",
   "execution_count": null,
   "id": "b2ed2dbd",
   "metadata": {},
   "outputs": [],
   "source": []
  },
  {
   "cell_type": "code",
   "execution_count": null,
   "id": "49e75e50",
   "metadata": {},
   "outputs": [],
   "source": []
  }
 ],
 "metadata": {
  "kernelspec": {
   "display_name": "Python 3 (ipykernel)",
   "language": "python",
   "name": "python3"
  },
  "language_info": {
   "codemirror_mode": {
    "name": "ipython",
    "version": 3
   },
   "file_extension": ".py",
   "mimetype": "text/x-python",
   "name": "python",
   "nbconvert_exporter": "python",
   "pygments_lexer": "ipython3",
   "version": "3.9.7"
  }
 },
 "nbformat": 4,
 "nbformat_minor": 5
}
